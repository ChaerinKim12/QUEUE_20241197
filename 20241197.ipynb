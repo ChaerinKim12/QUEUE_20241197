{
  "nbformat": 4,
  "nbformat_minor": 0,
  "metadata": {
    "colab": {
      "provenance": []
    },
    "kernelspec": {
      "name": "python3",
      "display_name": "Python 3"
    },
    "language_info": {
      "name": "python"
    }
  },
  "cells": [
    {
      "cell_type": "code",
      "source": [
        "# 1. LeetCode 225. Implement Stack using Queues\n",
        "class MyStack(object):\n",
        "\n",
        "    def __init__(self):\n",
        "        from collections import deque\n",
        "        self.q1 = deque()\n",
        "        self.q2 = deque()\n",
        "\n",
        "    def push(self, x):\n",
        "        \"\"\"\n",
        "        :type x: int\n",
        "        :rtype: None\n",
        "        \"\"\"\n",
        "        self.q1.append(x)\n",
        "\n",
        "\n",
        "    def pop(self):\n",
        "        \"\"\"\n",
        "        :rtype: int\n",
        "        \"\"\"\n",
        "        while len(self.q1) > 1:\n",
        "            self.q2.append(self.q1.popleft())\n",
        "\n",
        "        last_element = self.q1.popleft()\n",
        "\n",
        "        self.q1, self.q2 = self.q2, self.q1\n",
        "\n",
        "        return last_element\n",
        "\n",
        "    def top(self):\n",
        "        \"\"\"\n",
        "        :rtype: int\n",
        "        \"\"\"\n",
        "        while len(self.q1) > 1:\n",
        "            self.q2.append(self.q1.popleft())\n",
        "\n",
        "        last_element = self.q1.popleft()\n",
        "\n",
        "        self.q2.append(last_element)\n",
        "\n",
        "        self.q1, self.q2 = self.q2, self.q1\n",
        "\n",
        "        return last_element\n",
        "\n",
        "    def empty(self):\n",
        "        \"\"\"\n",
        "        :rtype: bool\n",
        "        \"\"\"\n",
        "        return len(self.q1) == 0\n",
        "\n",
        "\n",
        "\n",
        "# Your MyStack object will be instantiated and called as such:\n",
        "# obj = MyStack()\n",
        "# obj.push(x)\n",
        "# param_2 = obj.pop()\n",
        "# param_3 = obj.top()\n",
        "# param_4 = obj.empty()"
      ],
      "metadata": {
        "id": "Fz4oRd399VdX"
      },
      "execution_count": null,
      "outputs": []
    },
    {
      "cell_type": "code",
      "source": [
        "# 2. LeetCode 232. Implement Queue using Stacks\n",
        "class MyQueue(object):\n",
        "\n",
        "    def __init__(self):\n",
        "        self.stack_in = []\n",
        "        self.stack_out = []\n",
        "\n",
        "\n",
        "    def push(self, x):\n",
        "        \"\"\"\n",
        "        :type x: int\n",
        "        :rtype: None\n",
        "        \"\"\"\n",
        "        self.stack_in.append(x)\n",
        "\n",
        "\n",
        "    def pop(self):\n",
        "        \"\"\"\n",
        "        :rtype: int\n",
        "        \"\"\"\n",
        "        if not self.stack_out:\n",
        "            self._move_elements()\n",
        "\n",
        "        return self.stack_out.pop()\n",
        "\n",
        "\n",
        "    def peek(self):\n",
        "        \"\"\"\n",
        "        :rtype: int\n",
        "        \"\"\"\n",
        "        if not self.stack_out:\n",
        "            self._move_elements()\n",
        "\n",
        "        return self.stack_out[-1]\n",
        "\n",
        "    def empty(self):\n",
        "        \"\"\"\n",
        "        :rtype: bool\n",
        "        \"\"\"\n",
        "        return len(self.stack_in) == 0 and len(self.stack_out) == 0\n",
        "\n",
        "    def _move_elements(self):\n",
        "        \"\"\"\n",
        "        입력 스택의 모든 요소를 출력 스택으로 이동\n",
        "        \"\"\"\n",
        "        while self.stack_in:\n",
        "            self.stack_out.append(self.stack_in.pop())\n",
        "\n",
        "\n",
        "\n",
        "# Your MyQueue object will be instantiated and called as such:\n",
        "# obj = MyQueue()\n",
        "# obj.push(x)\n",
        "# param_2 = obj.pop()\n",
        "# param_3 = obj.peek()\n",
        "# param_4 = obj.empty()"
      ],
      "metadata": {
        "id": "XkyzKaFJ9drx"
      },
      "execution_count": null,
      "outputs": []
    },
    {
      "cell_type": "code",
      "execution_count": null,
      "metadata": {
        "id": "dNyWP6su1gf_"
      },
      "outputs": [],
      "source": [
        "# 3. 교재의 큐 연습문제 전부\n",
        "#01\n",
        "class ListQueue:\n",
        "    def __init__(self):\n",
        "        self.__queue = []\n",
        "    def enqueue(self, x):\n",
        "        self.__queue.insert(0, x)\n",
        "    def dequeue(self):\n",
        "        return self.__queue.pop()\n",
        "    def front(self):\n",
        "        return self.__queue[-1]\n",
        "    def isEmpty(self) -> bool:\n",
        "        return len(self.__queue) == 0\n",
        "    def dequeueAll(self):\n",
        "        self.__queue.clear()"
      ]
    },
    {
      "cell_type": "code",
      "source": [
        "#02\n",
        "def check_w$w(input_str):\n",
        "    dollar_pos = input_str.find('$')\n",
        "    if dollar_pos == -1:\n",
        "        return False\n",
        "    first_half = input_str[:dollar_pos]\n",
        "    second_half = input_str[dollar_pos+1:]\n",
        "    if len(first_half) != len(second_half):\n",
        "        return False\n",
        "    queue = []\n",
        "    for char in first_half:\n",
        "        queue.append(char)\n",
        "    for char in second_half:\n",
        "        if not queue or queue.pop(0) != char:\n",
        "            return False\n",
        "    return len(queue) == 0"
      ],
      "metadata": {
        "id": "ExKqfpZG10es"
      },
      "execution_count": null,
      "outputs": []
    },
    {
      "cell_type": "code",
      "source": [
        "# 03\n",
        "def copy_linked_queue(a, b):\n",
        "    temp = []\n",
        "    while not a.isEmpty():\n",
        "        item = a.dequeue()\n",
        "        temp.append(item)\n",
        "    for item in temp:\n",
        "        a.enqueue(item)\n",
        "        b.enqueue(item)"
      ],
      "metadata": {
        "id": "kHCM_dTh12rF"
      },
      "execution_count": null,
      "outputs": []
    },
    {
      "cell_type": "code",
      "source": [
        "#04\n",
        "class TwoQueueStack:\n",
        "    def __init__(self):\n",
        "        self.queue1 = []\n",
        "        self.queue2 = []\n",
        "    def push(self, x):\n",
        "        self.queue1.append(x)\n",
        "    def pop(self):\n",
        "        if not self.queue1:\n",
        "            return None\n",
        "        while len(self.queue1) > 1:\n",
        "        popped = self.queue1.pop(0)\n",
        "        self.queue1, self.queue2 = self.queue2, self.queue1\n",
        "        return popped"
      ],
      "metadata": {
        "id": "ykTEwj-U15Fp"
      },
      "execution_count": null,
      "outputs": []
    },
    {
      "cell_type": "code",
      "source": [
        "# 05\n",
        "class TwoStackQueue:\n",
        "    def __init__(self):\n",
        "        self.stack1 = []\n",
        "        self.stack2 = []\n",
        "    def enqueue(self, x):\n",
        "        self.stack1.append(x)\n",
        "    def dequeue(self):\n",
        "        if not self.stack2:\n",
        "            while self.stack1:\n",
        "                self.stack2.append(self.stack1.pop())\n",
        "        if not self.stack2:\n",
        "            return None\n",
        "        return self.stack2.pop()"
      ],
      "metadata": {
        "id": "mHiJSMHM17ds"
      },
      "execution_count": null,
      "outputs": []
    },
    {
      "cell_type": "code",
      "source": [
        "# 06\n",
        "enqueue(): O(1) - CircularLinkedList의 append() 메소드는 상수 시간에 실행됨. CircularLinkedList는 tail 포인터를 유지하므로 리스트 끝에 추가하는 연산이 효율적임.\n",
        "dequeue(): O(1) - CircularLinkedList의 pop(0) 메소드도 상수 시간에 실행됨. 원형 연결 리스트에서 head 노드를 제거하는 것은 포인터만 조정하면 되기 때문 따라서 enqueue()와 dequeue() 앞/뒤 모두 O(1)의 수행 시간이 걸린다."
      ],
      "metadata": {
        "id": "bsKpq4RJ_Dx8"
      },
      "execution_count": null,
      "outputs": []
    },
    {
      "cell_type": "code",
      "source": [
        "# 07\n",
        "앞쪽 enqueue (front에 추가): O(1) LinkedListBasic의 insert(0, item)을 사용하면 더미 헤드 다음에 노드를 삽입하는 연산으로, 포인터 조작만 필요하므로 상수 시간에 수행된다.\n",
        "앞쪽 dequeue (front에서 제거): O(1) LinkedListBasic의 pop(0)을 사용하면 더미 헤드 다음 노드를 제거하는 연산으로 포인터 조작만 필요하므로 상수 시간에 수행된다.\n",
        "뒤쪽 enqueue(rear에 추가): O(n) LinkedListBasic의 append(item)을 사용하면 마지막 노드를 찾기 위해 getNode(self.numItems-1)을 호출하게 되는데 이 과정에서 리스트 전체를 순회해야 하므로 O(n)의 시간이 소요된다.\n",
        "뒤쪽 dequeue(rear에서 제거): O(n) LinkedListBasic에서 마지막 노드를 제거하려면 pop(self.__numItems-1)을 호출해야 하는데 이 과정에서 마지막 이전 노드를 찾기 위해 리스트 전체를 순회해야 하므로 O(n)의 시간이 소요된다."
      ],
      "metadata": {
        "id": "SLHu765R_JOg"
      },
      "execution_count": null,
      "outputs": []
    },
    {
      "cell_type": "code",
      "source": [
        "# 08\n",
        "class ListDeque:\n",
        "    def __init__(self):\n",
        "        self.__queue = []\n",
        "    def enqueue(self, x):\n",
        "        self.__queue.append(x)\n",
        "    def dequeue(self):\n",
        "        if self.isEmpty():\n",
        "            return None\n",
        "        return self.__queue.pop(0)\n",
        "    def addFront(self, x):\n",
        "        self.__queue.insert(0, x)\n",
        "    def deleteLast(self):\n",
        "        if self.isEmpty():\n",
        "            return None\n",
        "        return self.__queue.pop()\n",
        "    def front(self):\n",
        "        if self.isEmpty():\n",
        "            return None\n",
        "        return self.__queue[0]\n",
        "    def rear(self):\n",
        "        if self.isEmpty():\n",
        "            return None\n",
        "    def isEmpty(self) -> bool:\n",
        "        return len(self.__queue) == 0\n",
        "    def dequeueAll(self):\n",
        "        self.__queue.clear()\n",
        "    def printQueue(self):\n",
        "        print(\"Deque from front:\", end = ' ')\n",
        "        for i in range(len(self.__queue)):\n",
        "            print(self.__queue[i], end = ' ')\n",
        "        print()"
      ],
      "metadata": {
        "id": "RuUiO-1H1-Nj"
      },
      "execution_count": null,
      "outputs": []
    }
  ]
}